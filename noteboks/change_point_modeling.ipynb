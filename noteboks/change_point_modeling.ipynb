{
 "cells": [
  {
   "cell_type": "markdown",
   "id": "3971b920",
   "metadata": {},
   "source": [
    "# 1. Import required libraries & functions"
   ]
  },
  {
   "cell_type": "code",
   "execution_count": null,
   "id": "9074540c",
   "metadata": {},
   "outputs": [
    {
     "name": "stderr",
     "output_type": "stream",
     "text": [
      "WARNING (pytensor.configdefaults): g++ not available, if using conda: `conda install gxx`\n",
      "WARNING (pytensor.configdefaults): g++ not detected!  PyTensor will be unable to compile C-implementations and will default to Python. Performance may be severely degraded. To remove this warning, set PyTensor flags cxx to an empty string.\n"
     ]
    }
   ],
   "source": [
    "# 1. Import required libraries & functions\n",
    "import numpy as np\n",
    "import matplotlib.pyplot as plt\n",
    "import seaborn as sns\n",
    "import arviz as az\n",
    "import pymc as pm\n",
    "import sys\n",
    "import os\n",
    "\n",
    "\n",
    "project_root = os.path.abspath(os.path.join(os.getcwd(), '..'))\n",
    "if project_root not in sys.path:\n",
    "    sys.path.append(project_root)\n",
    "\n",
    "from src.data.preprocess import load_and_clean_price_data, load_and_clean_event_data, save_cleaned_data\n",
    "from src.modeling.change_point_model import build_model, run_inference, get_change_point, plot_posterior\n",
    "\n",
    "sns.set(style='whitegrid')\n"
   ]
  },
  {
   "cell_type": "markdown",
   "id": "0b978eef",
   "metadata": {},
   "source": [
    "# 2. Load and preprocess the Brent oil price data"
   ]
  },
  {
   "cell_type": "code",
   "execution_count": null,
   "id": "14a3acc3",
   "metadata": {},
   "outputs": [
    {
     "name": "stdout",
     "output_type": "stream",
     "text": [
      "🔹 Loading Brent oil price data...\n",
      "🔹 Cleaning Brent oil price data...\n"
     ]
    },
    {
     "name": "stderr",
     "output_type": "stream",
     "text": [
      "c:\\Users\\hp\\Desktop\\10 Acadamy\\VS code\\brent-oil-change-point-analysis\\src\\data\\preprocess.py:16: UserWarning: Could not infer format, so each element will be parsed individually, falling back to `dateutil`. To ensure parsing is consistent and as-expected, please specify a format.\n",
      "  df[\"Date\"] = pd.to_datetime(df[\"Date\"], errors=\"coerce\")\n"
     ]
    },
    {
     "name": "stdout",
     "output_type": "stream",
     "text": [
      "🔹 Loading event data...\n",
      "🔹 Cleaning event data...\n"
     ]
    }
   ],
   "source": [
    "# Load cleaned and preprocessed Brent oil price data\n",
    "df_price = load_and_clean_price_data(input_path=r\"C:\\Users\\hp\\Desktop\\10 Acadamy\\VS code\\brent-oil-change-point-analysis\\data\\raw\\BrentOilPrices.csv\")\n",
    "df_events = load_and_clean_event_data(input_path=r\"C:\\Users\\hp\\Desktop\\10 Acadamy\\VS code\\brent-oil-change-point-analysis\\data\\raw\\event_data_unprocessed.csv\")\n",
    "\n",
    "\n",
    "price_series = df_price[\"Price\"].values"
   ]
  },
  {
   "cell_type": "markdown",
   "id": "3ea92add",
   "metadata": {},
   "source": [
    "# 3. Build the change point model"
   ]
  },
  {
   "cell_type": "code",
   "execution_count": 3,
   "id": "1cd31b79",
   "metadata": {},
   "outputs": [
    {
     "data": {
      "text/latex": [
       "$$\n",
       "            \\begin{array}{rcl}\n",
       "            \\text{tau} &\\sim & \\operatorname{DiscreteUniform}(f(),~f())\\\\\\text{mu1} &\\sim & \\operatorname{Normal}(48.4,~32.9)\\\\\\text{mu2} &\\sim & \\operatorname{Normal}(48.4,~32.9)\\\\\\text{sigma} &\\sim & \\operatorname{HalfNormal}(0,~1)\\\\\\text{obs} &\\sim & \\operatorname{Normal}(f(\\text{mu1},~\\text{mu2},~\\text{tau}),~\\text{sigma})\n",
       "            \\end{array}\n",
       "            $$"
      ],
      "text/plain": [
       "  tau ~ DiscreteUniform(f(), f())\n",
       "  mu1 ~ Normal(48.4, 32.9)\n",
       "  mu2 ~ Normal(48.4, 32.9)\n",
       "sigma ~ HalfNormal(0, 1)\n",
       "  obs ~ Normal(f(mu1, mu2, tau), sigma)"
      ]
     },
     "execution_count": 3,
     "metadata": {},
     "output_type": "execute_result"
    }
   ],
   "source": [
    "# Build the Bayesian model\n",
    "model = build_model(price_series)\n",
    "model"
   ]
  },
  {
   "cell_type": "markdown",
   "id": "0ec1dde0",
   "metadata": {},
   "source": [
    "# 4. Run inference (MCMC sampling)"
   ]
  },
  {
   "cell_type": "code",
   "execution_count": null,
   "id": "28dbe34e",
   "metadata": {},
   "outputs": [
    {
     "name": "stderr",
     "output_type": "stream",
     "text": [
      "Multiprocess sampling (2 chains in 2 jobs)\n",
      "CompoundStep\n",
      ">Metropolis: [tau]\n",
      ">NUTS: [mu1, mu2, sigma]\n"
     ]
    },
    {
     "data": {
      "text/html": [
       "<pre style=\"white-space:pre;overflow-x:auto;line-height:normal;font-family:Menlo,'DejaVu Sans Mono',consolas,'Courier New',monospace\">c:\\Users\\hp\\AppData\\Local\\Programs\\Python\\Python311\\Lib\\site-packages\\rich\\live.py:256: UserWarning: install \n",
       "\"ipywidgets\" for Jupyter support\n",
       "  warnings.warn('install \"ipywidgets\" for Jupyter support')\n",
       "</pre>\n"
      ],
      "text/plain": [
       "c:\\Users\\hp\\AppData\\Local\\Programs\\Python\\Python311\\Lib\\site-packages\\rich\\live.py:256: UserWarning: install \n",
       "\"ipywidgets\" for Jupyter support\n",
       "  warnings.warn('install \"ipywidgets\" for Jupyter support')\n"
      ]
     },
     "metadata": {},
     "output_type": "display_data"
    }
   ],
   "source": [
    "# Run sampling using NUTS\n",
    "trace = run_inference(model, draws=500, tune=500, target_accept=0.95)\n"
   ]
  },
  {
   "cell_type": "markdown",
   "id": "8e30ebf5",
   "metadata": {},
   "source": [
    "# 5. Plot posterior distributions"
   ]
  },
  {
   "cell_type": "code",
   "execution_count": null,
   "id": "43f2393b",
   "metadata": {},
   "outputs": [],
   "source": [
    "# Visualize tau (change point), mu1, mu2\n",
    "plot_posterior(trace)\n"
   ]
  },
  {
   "cell_type": "markdown",
   "id": "0fdcdcbb",
   "metadata": {},
   "source": [
    "# 6. Extract and visualize the detected change point"
   ]
  },
  {
   "cell_type": "code",
   "execution_count": null,
   "id": "963d7c84",
   "metadata": {},
   "outputs": [],
   "source": [
    "# Get the most probable change point index\n",
    "change_point_index = get_change_point(trace)\n",
    "print(f\"Detected change point at index: {change_point_index}\")\n",
    "\n",
    "# Plot the price series with the change point\n",
    "plt.figure(figsize=(12, 6))\n",
    "plt.plot(df['Date'], price_series, label='Brent Oil Price', linewidth=2)\n",
    "plt.axvline(df['Date'].iloc[change_point_index], color='red', linestyle='--', label='Change Point')\n",
    "plt.xlabel(\"Date\")\n",
    "plt.ylabel(\"Price (USD)\")\n",
    "plt.title(\"Detected Change Point in Brent Oil Price\")\n",
    "plt.legend()\n",
    "plt.tight_layout()\n",
    "plt.show()\n"
   ]
  },
  {
   "cell_type": "markdown",
   "id": "a3a1f507",
   "metadata": {},
   "source": [
    "# 7.Plot trace"
   ]
  },
  {
   "cell_type": "code",
   "execution_count": null,
   "id": "71c41e83",
   "metadata": {},
   "outputs": [],
   "source": [
    "az.plot_trace(trace, var_names=[\"tau\", \"mu1\", \"mu2\"])"
   ]
  }
 ],
 "metadata": {
  "kernelspec": {
   "display_name": "Python 3",
   "language": "python",
   "name": "python3"
  },
  "language_info": {
   "codemirror_mode": {
    "name": "ipython",
    "version": 3
   },
   "file_extension": ".py",
   "mimetype": "text/x-python",
   "name": "python",
   "nbconvert_exporter": "python",
   "pygments_lexer": "ipython3",
   "version": "3.11.0"
  }
 },
 "nbformat": 4,
 "nbformat_minor": 5
}
